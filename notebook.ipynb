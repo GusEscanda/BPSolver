{
 "cells": [
  {
   "cell_type": "code",
   "execution_count": 5,
   "metadata": {},
   "outputs": [],
   "source": [
    "import glob\n",
    "from datetime import datetime, timedelta\n",
    "from tqdm import tqdm\n",
    "\n",
    "import cv2\n",
    "import numpy as np\n",
    "import matplotlib.pyplot as plt\n",
    "import pandas as pd\n",
    "\n",
    "from grids import Grid, draw_grid\n",
    "from queens import Queens\n",
    "from BPSolver import BPSolver"
   ]
  },
  {
   "cell_type": "code",
   "execution_count": null,
   "metadata": {},
   "outputs": [],
   "source": [
    "\n",
    "def imshow(images, col_qty=5, figsize=(10, 15), axis_off=True):\n",
    "    \"\"\"\"\n",
    "    images: [(title1, image1), (title2, image2), (title3, image3), ... ]\n",
    "    col_qty: number of columns in the grid of images to show\n",
    "    figsize: sisze of each image\n",
    "    \"\"\"\n",
    "    img_count = len(images)\n",
    "\n",
    "    row_qty= (img_count // col_qty) + (img_count % col_qty > 0)\n",
    "\n",
    "    fig, axes = plt.subplots(row_qty, col_qty, figsize=figsize)\n",
    "\n",
    "    axes = np.array(axes).flatten()  # access the array with just one index\n",
    "\n",
    "    for i, (title, img) in enumerate(images):\n",
    "        if len(img.shape) == 3:  # Color image (BGR)\n",
    "            axes[i].imshow(cv2.cvtColor(img, cv2.COLOR_BGR2RGB))\n",
    "        else:  # Gray image\n",
    "            axes[i].imshow(img, cmap = \"gray\")\n",
    "\n",
    "        axes[i].set_title(title)\n",
    "        if axis_off:\n",
    "            axes[i].axis(\"off\")\n",
    "\n",
    "    # Hide remaining axes\n",
    "    for j in range(i + 1, len(axes)):\n",
    "        axes[j].axis(\"off\")\n",
    "\n",
    "    plt.tight_layout()\n",
    "    plt.show()\n"
   ]
  },
  {
   "cell_type": "code",
   "execution_count": null,
   "metadata": {},
   "outputs": [],
   "source": [
    "def imshow_1(title, image, figsize=(10, 5)):\n",
    "    \n",
    "    fig, ax = plt.subplots(figsize=figsize)\n",
    "\n",
    "    if len(image.shape) == 3:  # Imagen en color (BGR)\n",
    "        ax.imshow(cv2.cvtColor(image, cv2.COLOR_BGR2RGB))\n",
    "    else:  # Imagen en escala de grises\n",
    "        ax.imshow(image, cmap = \"gray\")\n",
    "    \n",
    "    ax.set_title(title)\n",
    "    # axes[0].axis(\"off\")\n",
    "\n",
    "    plt.tight_layout()\n",
    "    plt.show()\n"
   ]
  },
  {
   "cell_type": "code",
   "execution_count": null,
   "metadata": {},
   "outputs": [],
   "source": [
    "def imshow_2(tit1, img1, tit2, img2, figsize=(10, 5)):\n",
    "    # Mostrar dos imagenes\n",
    "    fig, axes = plt.subplots(1, 2, figsize=figsize)  # 1 fila, 2 columnas\n",
    "\n",
    "    if len(img1.shape) == 3:  # Imagen en color (BGR)\n",
    "        img1 = cv2.cvtColor(img1, cv2.COLOR_BGR2RGB)\n",
    "        cmap1 = None\n",
    "    else:\n",
    "        cmap1 = 'gray'\n",
    "\n",
    "    if len(img2.shape) == 3:  # Imagen en color (BGR)\n",
    "        img2 = cv2.cvtColor(img2, cv2.COLOR_BGR2RGB)\n",
    "        cmap2 = None\n",
    "    else:\n",
    "        cmap2 = 'gray'\n",
    "\n",
    "    # Imagen 1\n",
    "    axes[0].imshow(img1, cmap=cmap1)\n",
    "    axes[0].set_title(tit1)\n",
    "    # axes[0].axis(\"off\")\n",
    "\n",
    "    # Imagen procesada\n",
    "    axes[1].imshow(img2, cmap=cmap2)\n",
    "    axes[1].set_title(tit2)\n",
    "    # axes[1].axis(\"off\")\n",
    "\n",
    "    plt.tight_layout()\n",
    "    plt.show()"
   ]
  },
  {
   "cell_type": "code",
   "execution_count": null,
   "metadata": {},
   "outputs": [],
   "source": [
    "def update_pbar(pbar, start_time, done, total, results):\n",
    "    pbar.update(1)\n",
    "    elapsed_time = datetime.now() - start_time\n",
    "    estimated_total = (elapsed_time / done) * total\n",
    "    remaining_time = estimated_total - elapsed_time\n",
    "    finish_time = datetime.now() + remaining_time\n",
    "    pbar.set_postfix(ETA=finish_time.strftime(\"%H:%M:%S\"), Status=results)"
   ]
  },
  {
   "cell_type": "code",
   "execution_count": null,
   "metadata": {},
   "outputs": [],
   "source": [
    "# Load image\n",
    "\n",
    "gr = Grid(image_path='./img/queens-IMG_9519.PNG')"
   ]
  },
  {
   "cell_type": "code",
   "execution_count": null,
   "metadata": {},
   "outputs": [],
   "source": [
    "# Show original and pre-processed images\n",
    "gr.preprocess_image(resize_width=500)\n",
    "images = [(\"Original\", gr.image)] + sorted(gr.work_imgs.items())\n",
    "imshow(images, col_qty=5, figsize=(15, 25))"
   ]
  },
  {
   "cell_type": "code",
   "execution_count": null,
   "metadata": {},
   "outputs": [],
   "source": [
    "# Find the grid (show the process)\n",
    "output = gr.find_grid(\n",
    "    min_line_length = 300, \n",
    "    max_line_gap = 8, \n",
    "    max_groupping_dist = 3, \n",
    "    min_valid_n=5,\n",
    "    max_valid_n=15,\n",
    "    show_process=True\n",
    ")"
   ]
  },
  {
   "cell_type": "code",
   "execution_count": null,
   "metadata": {},
   "outputs": [],
   "source": [
    "# Show the results for each pre-process\n",
    "\n",
    "images = [(\"Original\", gr.image)] + sorted(output.items())\n",
    "imshow(images, axis_off=False, figsize=(15, 25))"
   ]
  },
  {
   "cell_type": "code",
   "execution_count": null,
   "metadata": {},
   "outputs": [],
   "source": [
    "# Process a bunch of images and analyze the Grid class parameters that have more chance to find the grid\n",
    "\n",
    "threshold_values = [70, 100, 130, 160]\n",
    "min_line_length = [300, 350, 400]\n",
    "max_line_gap = [8, 12]\n",
    "max_groupping_dist = 3\n",
    "\n",
    "columns = [\n",
    "    'filename', 'best_n', 'best_label', 'max_cluster_size', \n",
    "    'pre-proc', 'in_final_set', 'label', 'n', 'height', 'width',\n",
    "    'min_line_length', 'max_line_gap', 'max_groupping_dist', 'cluster_size'\n",
    "]\n",
    "grids = pd.DataFrame(columns=columns)\n",
    "show = []\n",
    "results = ''\n",
    "filenames = sorted(glob.glob('./img/*.*'))\n",
    "start_time, done = datetime.now(), 0\n",
    "with tqdm(total=len(filenames), desc=\"Progress\", unit=\"iter\") as pbar:\n",
    "    for filename in filenames:\n",
    "        gr = Grid(filename)\n",
    "        gr.preprocess_image(resize_width=500, threshold_values=threshold_values)\n",
    "        gr.find_grid(\n",
    "            min_line_length=min_line_length, \n",
    "            max_line_gap=max_line_gap,\n",
    "            max_groupping_dist=max_groupping_dist,\n",
    "            min_valid_n=6, max_valid_n=16\n",
    "        )\n",
    "        if gr.n:\n",
    "            df = pd.DataFrame(gr.all_grids)\n",
    "        else:\n",
    "            df = pd.DataFrame([{\n",
    "                    'pre-proc': '', \n",
    "                    'in_final_set': False, \n",
    "                    'label': 0, \n",
    "                    'n': 0, \n",
    "                    'height': 0,\n",
    "                    'width': 0,\n",
    "                    'min_line_length': 0, \n",
    "                    'max_line_gap': 0, \n",
    "                    'max_groupping_dist': 0, \n",
    "                    'cluster_size': 0\n",
    "            }])\n",
    "        df['filename'] = gr.image_path.replace('./img/', '', 1)\n",
    "        df['best_n'] = gr.n if gr.n else 0\n",
    "        df['best_label'] = gr.best_label if gr.best_label else 0\n",
    "        df['max_cluster_size'] = gr.max_cluster_size if gr.max_cluster_size else 0\n",
    "        show.append((\n",
    "                f\"n: {gr.n}-label: {gr.best_label}\\n{gr.image_path.replace('./img/', '', 1)}\",\n",
    "                draw_grid(gr.image, gr.x_axis, gr.y_axis)\n",
    "        ))\n",
    "        for c in set(columns) - set(df.columns):\n",
    "            df[c] = None\n",
    "        df = df[columns]\n",
    "        grids = pd.concat([grids, df]).reset_index(drop=True)\n",
    "        results += \"✔\" if gr.n > 0 else \"✖\"\n",
    "        done += 1\n",
    "        update_pbar(pbar, start_time, done, len(filenames), results)\n",
    "        "
   ]
  },
  {
   "cell_type": "code",
   "execution_count": null,
   "metadata": {},
   "outputs": [],
   "source": [
    "grids        "
   ]
  },
  {
   "cell_type": "code",
   "execution_count": null,
   "metadata": {},
   "outputs": [],
   "source": [
    "# For which files could a valid grid not be found?\n",
    "\n",
    "not_solved = grids[grids['best_n']==0]['filename'].to_list()\n",
    "solved = grids[grids['best_n']!=0]['filename'].unique()\n",
    "not_solved, len(not_solved), len(solved)"
   ]
  },
  {
   "cell_type": "code",
   "execution_count": null,
   "metadata": {},
   "outputs": [],
   "source": [
    "# Make a list of parameters with the files that each of them managed to resolve\n",
    "\n",
    "param_cols = ['pre-proc', 'min_line_length', 'max_line_gap', 'max_groupping_dist']\n",
    "grids['in_final_set'] = grids['in_final_set'].fillna(False).astype(bool)\n",
    "params = grids[grids['in_final_set']].groupby(param_cols)[param_cols+['filename']].apply(lambda grp: set(grp['filename'].unique()))\n",
    "params = params.rename('filenames').reset_index()\n",
    "params['qty'] = params['filenames'].apply(len)\n",
    "params = params.sort_values(by='qty', ascending=False)\n",
    "params"
   ]
  },
  {
   "cell_type": "code",
   "execution_count": null,
   "metadata": {},
   "outputs": [],
   "source": [
    "# Find out which parameters provided more solutions\n",
    "\n",
    "filenames = set()\n",
    "for i in range(len(params)):\n",
    "    p = params.iloc[i]\n",
    "    filenames = filenames | p['filenames']\n",
    "    print(', '.join(f\"{col}: {p[col]}\" for col in param_cols), f\"covered: {len(filenames)}\")\n",
    "    if len(filenames) == len(solved):\n",
    "        break\n"
   ]
  },
  {
   "cell_type": "code",
   "execution_count": null,
   "metadata": {},
   "outputs": [],
   "source": [
    "# Show all the grids found\n",
    "\n",
    "for i in range(0, len(show), 20):\n",
    "    imshow(show[i:i+20], col_qty=5, axis_off=False, figsize=(15, 25))"
   ]
  },
  {
   "cell_type": "markdown",
   "metadata": {},
   "source": [
    "Solving a puzzle"
   ]
  },
  {
   "cell_type": "code",
   "execution_count": null,
   "metadata": {},
   "outputs": [],
   "source": [
    "threshold_values = [70, 100, 130, 160]\n",
    "min_line_length = [300, 350, 400]\n",
    "max_line_gap = [8, 12]\n",
    "max_groupping_dist = 3\n",
    "\n",
    "# Create a BoardPuzzle object\n",
    "\n",
    "grid = Grid('./img/queens-IMG_9629.PNG')\n",
    "\n",
    "puzzle = Queens(\n",
    "    grid, \n",
    "    resize_width=500, \n",
    "    threshold_value= threshold_values,\n",
    "    min_line_length= min_line_length, \n",
    "    max_line_gap= max_line_gap,\n",
    "    max_groupping_dist= max_groupping_dist,\n",
    "    min_valid_n= 6, max_valid_n= 16\n",
    ")\n",
    "print(puzzle.msg)\n",
    "\n",
    "# Solve the puzzle and show the result\n",
    "solver = BPSolver(puzzle, 1000, timedelta(seconds=120), 20)\n",
    "msg = solver.solve()\n",
    "print(msg)\n",
    "\n",
    "if grid.image is not None:\n",
    "    imshow(\n",
    "        [\n",
    "            ('original', grid.image),\n",
    "            ('grid', draw_grid(grid.image, grid.x_axis, grid.y_axis)),\n",
    "            ('result', puzzle.draw_solution(grid.image))\n",
    "        ],\n",
    "        axis_off=False,\n",
    "        figsize=(25, 10)\n",
    "    )"
   ]
  },
  {
   "cell_type": "markdown",
   "metadata": {},
   "source": [
    "Solve all the puzzles"
   ]
  },
  {
   "cell_type": "code",
   "execution_count": null,
   "metadata": {},
   "outputs": [],
   "source": [
    "# Solve the puzzles\n",
    "\n",
    "threshold_values = [70, 100, 130, 160]\n",
    "min_line_length = [300, 350, 400]\n",
    "max_line_gap = [8, 12]\n",
    "max_groupping_dist = 3\n",
    "\n",
    "show = []\n",
    "results = ''\n",
    "failed = []\n",
    "filenames = sorted(glob.glob('./img/*.*'))\n",
    "start_time, done = datetime.now(), 0\n",
    "with tqdm(total=len(filenames), desc=\"Progress\", unit=\"iter\") as pbar:\n",
    "    for filename in filenames:\n",
    "        # Try to find a Grid\n",
    "        grid = Grid(filename)\n",
    "        grid.preprocess_image(resize_width=500, threshold_values=threshold_values)\n",
    "        grid.find_grid(\n",
    "            min_line_length=min_line_length, \n",
    "            max_line_gap=max_line_gap,\n",
    "            max_groupping_dist=max_groupping_dist,\n",
    "            min_valid_n=6, max_valid_n=16\n",
    "        )\n",
    "        if grid.n == 0:\n",
    "            failed.append({'filename': filename, 'fail': 'No grid detected'})\n",
    "            results += \"✖\"\n",
    "            done += 1\n",
    "            update_pbar(pbar, start_time, done, len(filenames), results)\n",
    "            continue\n",
    "\n",
    "        # Try to find a \"Queens\" board in the image\n",
    "        puzzle = Queens(grid)\n",
    "        if puzzle.board is None:\n",
    "            failed.append({'filename': filename, 'fail': puzzle.msg})\n",
    "            results += \"✖\"\n",
    "            done += 1\n",
    "            update_pbar(pbar, start_time, done, len(filenames), results)\n",
    "            continue\n",
    "\n",
    "        # if found a puzzle, try to solve it\n",
    "        solver = BPSolver(puzzle, 1000, timedelta(seconds=120), 20)\n",
    "        msg = solver.solve()\n",
    "\n",
    "        # show the result\n",
    "        show.append((\n",
    "            f\"{grid.image_path.replace('./img/', '', 1)}\",\n",
    "            puzzle.draw_solution()\n",
    "        ))\n",
    "        if not puzzle.is_solved:\n",
    "            # add it to the failed list\n",
    "            failed.append({'filename': filename, 'fail': msg})\n",
    "            results += \"✖\"\n",
    "        else:\n",
    "            results += \"✔\"\n",
    "\n",
    "        # update progress bar\n",
    "        done += 1\n",
    "        update_pbar(pbar, start_time, done, len(filenames), results)\n",
    "        "
   ]
  },
  {
   "cell_type": "code",
   "execution_count": null,
   "metadata": {},
   "outputs": [],
   "source": [
    "# Show all the results found\n",
    "\n",
    "for i in range(0, len(show), 20):\n",
    "    imshow(show[i:i+20], col_qty=5, axis_off=False, figsize=(15, 25))"
   ]
  },
  {
   "cell_type": "code",
   "execution_count": null,
   "metadata": {},
   "outputs": [],
   "source": [
    "pd.DataFrame(failed)"
   ]
  },
  {
   "cell_type": "code",
   "execution_count": null,
   "metadata": {},
   "outputs": [],
   "source": []
  },
  {
   "cell_type": "code",
   "execution_count": null,
   "metadata": {},
   "outputs": [],
   "source": []
  },
  {
   "cell_type": "code",
   "execution_count": null,
   "metadata": {},
   "outputs": [],
   "source": []
  }
 ],
 "metadata": {
  "kernelspec": {
   "display_name": ".venv",
   "language": "python",
   "name": "python3"
  },
  "language_info": {
   "codemirror_mode": {
    "name": "ipython",
    "version": 3
   },
   "file_extension": ".py",
   "mimetype": "text/x-python",
   "name": "python",
   "nbconvert_exporter": "python",
   "pygments_lexer": "ipython3",
   "version": "3.12.3"
  }
 },
 "nbformat": 4,
 "nbformat_minor": 2
}
